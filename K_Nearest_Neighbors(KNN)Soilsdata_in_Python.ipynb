{
  "nbformat": 4,
  "nbformat_minor": 0,
  "metadata": {
    "colab": {
      "provenance": [],
      "include_colab_link": true
    },
    "kernelspec": {
      "name": "python3",
      "display_name": "Python 3"
    },
    "language_info": {
      "name": "python"
    }
  },
  "cells": [
    {
      "cell_type": "markdown",
      "metadata": {
        "id": "view-in-github",
        "colab_type": "text"
      },
      "source": [
        "<a href=\"https://colab.research.google.com/github/Nukaraju2003/K-Nearest-Neighbors-KNN-Soilsdata-in-Python/blob/main/K_Nearest_Neighbors(KNN)Soilsdata_in_Python.ipynb\" target=\"_parent\"><img src=\"https://colab.research.google.com/assets/colab-badge.svg\" alt=\"Open In Colab\"/></a>"
      ]
    },
    {
      "cell_type": "markdown",
      "source": [
        "# Implementation of KNN Algorithm in Python \n",
        "## Importing the modules"
      ],
      "metadata": {
        "id": "zTkF5JOIxVDp"
      }
    },
    {
      "cell_type": "code",
      "execution_count": null,
      "metadata": {
        "id": "xk9bKvpRt2I6"
      },
      "outputs": [],
      "source": [
        "import numpy as np\n",
        "import pandas as pd\n",
        "import matplotlib.pyplot as plt\n",
        "\n",
        "from sklearn.datasets import make_blobs\n",
        "from sklearn.neighbors import KNeighborsClassifier\n",
        "from sklearn.model_selection import train_test_split\n",
        "from sklearn.preprocessing import StandardScaler\n",
        "from sklearn.metrics import accuracy_score\n",
        "from sklearn.metrics import confusion_matrix"
      ]
    },
    {
      "cell_type": "code",
      "source": [
        "from sklearn.metrics import f1_score"
      ],
      "metadata": {
        "id": "tnVXxxBPyu0W"
      },
      "execution_count": null,
      "outputs": []
    },
    {
      "cell_type": "markdown",
      "source": [
        "## Creating Dataset"
      ],
      "metadata": {
        "id": "hQjI9PIfzHuO"
      }
    },
    {
      "cell_type": "code",
      "source": [
        "dataset = pd.read_csv('/content/Geopolymer soils dataa.csv')\n",
        "dataset = dataset.astype({'28 day UCS (Mpa)': int})  # comment if need continuous values\n",
        "print(len(dataset))\n",
        "print(dataset.head(20))"
      ],
      "metadata": {
        "id": "U20gq7DlKpxH",
        "colab": {
          "base_uri": "https://localhost:8080/"
        },
        "outputId": "4d46938f-9ca4-4c2e-8603-e35a1892547f"
      },
      "execution_count": null,
      "outputs": [
        {
          "output_type": "stream",
          "name": "stdout",
          "text": [
            "276\n",
            "       LL     PI  %S  %FA     M   A/B  Na/Al  Si/Al  28 day UCS (Mpa)\n",
            "0   116.0  88.46  20    0   4.0  0.45   0.39   1.49                 0\n",
            "1   116.0  88.46  16    0   4.0  0.45   0.39   1.49                 0\n",
            "2   116.0  88.46  12    0   4.0  0.45   0.39   1.49                 0\n",
            "3   116.0  88.46   8    0   4.0  0.45   0.39   1.49                 0\n",
            "4   116.0  88.46   4    0   4.0  0.45   0.39   1.49                 0\n",
            "5   116.0  88.46  20    0   8.0  0.45   0.69   1.49                 0\n",
            "6   116.0  88.46  16    0   8.0  0.45   0.69   1.49                 0\n",
            "7   116.0  88.46  12    0   8.0  0.45   0.69   1.49                 0\n",
            "8   116.0  88.46   8    0   8.0  0.45   0.69   1.49                 0\n",
            "9   116.0  88.46   4    0   8.0  0.45   0.69   1.49                 0\n",
            "10  116.0  88.46  20    0  12.0  0.45   0.93   1.49                 1\n",
            "11  116.0  88.46  16    0  12.0  0.45   0.93   1.49                 1\n",
            "12  116.0  88.46  12    0  12.0  0.45   0.93   1.49                 0\n",
            "13  116.0  88.46   8    0  12.0  0.45   0.93   1.49                 0\n",
            "14  116.0  88.46   4    0  12.0  0.45   0.93   1.49                 0\n",
            "15  116.0  88.46  20    0  12.0  0.65   1.34   1.49                 3\n",
            "16  116.0  88.46  16    0  12.0  0.65   1.34   1.49                 2\n",
            "17  116.0  88.46  12    0  12.0  0.65   1.34   1.49                 1\n",
            "18  116.0  88.46   8    0  12.0  0.65   1.34   1.49                 0\n",
            "19  116.0  88.46   4    0  12.0  0.65   1.34   1.49                 0\n"
          ]
        }
      ]
    },
    {
      "cell_type": "code",
      "source": [
        "from sklearn_pandas import DataFrameMapper\n",
        "mapper = DataFrameMapper([(dataset.columns, StandardScaler())])\n",
        "scaled_features = mapper.fit_transform(dataset.copy(), 4)\n",
        "scaled_features_df = pd.DataFrame(scaled_features, index=dataset.index, columns=dataset.columns)"
      ],
      "metadata": {
        "id": "qu-QPJq2Wi24"
      },
      "execution_count": null,
      "outputs": []
    },
    {
      "cell_type": "code",
      "source": [
        "scaled_features_df"
      ],
      "metadata": {
        "id": "OBxcLmDNWwrm",
        "outputId": "8774ff8e-31fa-4804-c5c7-4b8320e325b1",
        "colab": {
          "base_uri": "https://localhost:8080/",
          "height": 424
        }
      },
      "execution_count": null,
      "outputs": [
        {
          "output_type": "execute_result",
          "data": {
            "text/plain": [
              "           LL        PI        %S       %FA         M       A/B     Na/Al  \\\n",
              "0    1.594337  1.590579  0.303031 -0.445282 -3.066279 -1.160072 -1.748372   \n",
              "1    1.594337  1.590579 -0.006734 -0.445282 -3.066279 -1.160072 -1.748372   \n",
              "2    1.594337  1.590579 -0.316499 -0.445282 -3.066279 -1.160072 -1.748372   \n",
              "3    1.594337  1.590579 -0.626264 -0.445282 -3.066279 -1.160072 -1.748372   \n",
              "4    1.594337  1.590579 -0.936029 -0.445282 -3.066279 -1.160072 -1.748372   \n",
              "..        ...       ...       ...       ...       ...       ...       ...   \n",
              "271 -0.826370 -0.824030  0.303031 -0.445282  0.783007  0.225988  0.798724   \n",
              "272 -0.826370 -0.824030  0.303031 -0.445282  0.783007  0.225988  0.798724   \n",
              "273 -0.826370 -0.824030  0.303031 -0.445282  0.783007  0.225988  0.798724   \n",
              "274 -0.826370 -0.824030  0.303031 -0.445282  0.783007  0.225988  0.798724   \n",
              "275 -0.826370 -0.824030  0.303031 -0.445282  0.783007  0.225988  0.798724   \n",
              "\n",
              "        Si/Al  28 day UCS (Mpa)  \n",
              "0   -0.580658         -0.850818  \n",
              "1   -0.580658         -0.850818  \n",
              "2   -0.580658         -0.850818  \n",
              "3   -0.580658         -0.850818  \n",
              "4   -0.580658         -0.850818  \n",
              "..        ...               ...  \n",
              "271 -0.373907          1.193881  \n",
              "272 -0.255764          1.193881  \n",
              "273 -0.137620          1.193881  \n",
              "274 -0.049012          1.351165  \n",
              "275  0.305418          1.351165  \n",
              "\n",
              "[276 rows x 9 columns]"
            ],
            "text/html": [
              "\n",
              "  <div id=\"df-7a65cca3-3103-4f00-8970-aeb2ead5c298\">\n",
              "    <div class=\"colab-df-container\">\n",
              "      <div>\n",
              "<style scoped>\n",
              "    .dataframe tbody tr th:only-of-type {\n",
              "        vertical-align: middle;\n",
              "    }\n",
              "\n",
              "    .dataframe tbody tr th {\n",
              "        vertical-align: top;\n",
              "    }\n",
              "\n",
              "    .dataframe thead th {\n",
              "        text-align: right;\n",
              "    }\n",
              "</style>\n",
              "<table border=\"1\" class=\"dataframe\">\n",
              "  <thead>\n",
              "    <tr style=\"text-align: right;\">\n",
              "      <th></th>\n",
              "      <th>LL</th>\n",
              "      <th>PI</th>\n",
              "      <th>%S</th>\n",
              "      <th>%FA</th>\n",
              "      <th>M</th>\n",
              "      <th>A/B</th>\n",
              "      <th>Na/Al</th>\n",
              "      <th>Si/Al</th>\n",
              "      <th>28 day UCS (Mpa)</th>\n",
              "    </tr>\n",
              "  </thead>\n",
              "  <tbody>\n",
              "    <tr>\n",
              "      <th>0</th>\n",
              "      <td>1.594337</td>\n",
              "      <td>1.590579</td>\n",
              "      <td>0.303031</td>\n",
              "      <td>-0.445282</td>\n",
              "      <td>-3.066279</td>\n",
              "      <td>-1.160072</td>\n",
              "      <td>-1.748372</td>\n",
              "      <td>-0.580658</td>\n",
              "      <td>-0.850818</td>\n",
              "    </tr>\n",
              "    <tr>\n",
              "      <th>1</th>\n",
              "      <td>1.594337</td>\n",
              "      <td>1.590579</td>\n",
              "      <td>-0.006734</td>\n",
              "      <td>-0.445282</td>\n",
              "      <td>-3.066279</td>\n",
              "      <td>-1.160072</td>\n",
              "      <td>-1.748372</td>\n",
              "      <td>-0.580658</td>\n",
              "      <td>-0.850818</td>\n",
              "    </tr>\n",
              "    <tr>\n",
              "      <th>2</th>\n",
              "      <td>1.594337</td>\n",
              "      <td>1.590579</td>\n",
              "      <td>-0.316499</td>\n",
              "      <td>-0.445282</td>\n",
              "      <td>-3.066279</td>\n",
              "      <td>-1.160072</td>\n",
              "      <td>-1.748372</td>\n",
              "      <td>-0.580658</td>\n",
              "      <td>-0.850818</td>\n",
              "    </tr>\n",
              "    <tr>\n",
              "      <th>3</th>\n",
              "      <td>1.594337</td>\n",
              "      <td>1.590579</td>\n",
              "      <td>-0.626264</td>\n",
              "      <td>-0.445282</td>\n",
              "      <td>-3.066279</td>\n",
              "      <td>-1.160072</td>\n",
              "      <td>-1.748372</td>\n",
              "      <td>-0.580658</td>\n",
              "      <td>-0.850818</td>\n",
              "    </tr>\n",
              "    <tr>\n",
              "      <th>4</th>\n",
              "      <td>1.594337</td>\n",
              "      <td>1.590579</td>\n",
              "      <td>-0.936029</td>\n",
              "      <td>-0.445282</td>\n",
              "      <td>-3.066279</td>\n",
              "      <td>-1.160072</td>\n",
              "      <td>-1.748372</td>\n",
              "      <td>-0.580658</td>\n",
              "      <td>-0.850818</td>\n",
              "    </tr>\n",
              "    <tr>\n",
              "      <th>...</th>\n",
              "      <td>...</td>\n",
              "      <td>...</td>\n",
              "      <td>...</td>\n",
              "      <td>...</td>\n",
              "      <td>...</td>\n",
              "      <td>...</td>\n",
              "      <td>...</td>\n",
              "      <td>...</td>\n",
              "      <td>...</td>\n",
              "    </tr>\n",
              "    <tr>\n",
              "      <th>271</th>\n",
              "      <td>-0.826370</td>\n",
              "      <td>-0.824030</td>\n",
              "      <td>0.303031</td>\n",
              "      <td>-0.445282</td>\n",
              "      <td>0.783007</td>\n",
              "      <td>0.225988</td>\n",
              "      <td>0.798724</td>\n",
              "      <td>-0.373907</td>\n",
              "      <td>1.193881</td>\n",
              "    </tr>\n",
              "    <tr>\n",
              "      <th>272</th>\n",
              "      <td>-0.826370</td>\n",
              "      <td>-0.824030</td>\n",
              "      <td>0.303031</td>\n",
              "      <td>-0.445282</td>\n",
              "      <td>0.783007</td>\n",
              "      <td>0.225988</td>\n",
              "      <td>0.798724</td>\n",
              "      <td>-0.255764</td>\n",
              "      <td>1.193881</td>\n",
              "    </tr>\n",
              "    <tr>\n",
              "      <th>273</th>\n",
              "      <td>-0.826370</td>\n",
              "      <td>-0.824030</td>\n",
              "      <td>0.303031</td>\n",
              "      <td>-0.445282</td>\n",
              "      <td>0.783007</td>\n",
              "      <td>0.225988</td>\n",
              "      <td>0.798724</td>\n",
              "      <td>-0.137620</td>\n",
              "      <td>1.193881</td>\n",
              "    </tr>\n",
              "    <tr>\n",
              "      <th>274</th>\n",
              "      <td>-0.826370</td>\n",
              "      <td>-0.824030</td>\n",
              "      <td>0.303031</td>\n",
              "      <td>-0.445282</td>\n",
              "      <td>0.783007</td>\n",
              "      <td>0.225988</td>\n",
              "      <td>0.798724</td>\n",
              "      <td>-0.049012</td>\n",
              "      <td>1.351165</td>\n",
              "    </tr>\n",
              "    <tr>\n",
              "      <th>275</th>\n",
              "      <td>-0.826370</td>\n",
              "      <td>-0.824030</td>\n",
              "      <td>0.303031</td>\n",
              "      <td>-0.445282</td>\n",
              "      <td>0.783007</td>\n",
              "      <td>0.225988</td>\n",
              "      <td>0.798724</td>\n",
              "      <td>0.305418</td>\n",
              "      <td>1.351165</td>\n",
              "    </tr>\n",
              "  </tbody>\n",
              "</table>\n",
              "<p>276 rows × 9 columns</p>\n",
              "</div>\n",
              "      <button class=\"colab-df-convert\" onclick=\"convertToInteractive('df-7a65cca3-3103-4f00-8970-aeb2ead5c298')\"\n",
              "              title=\"Convert this dataframe to an interactive table.\"\n",
              "              style=\"display:none;\">\n",
              "        \n",
              "  <svg xmlns=\"http://www.w3.org/2000/svg\" height=\"24px\"viewBox=\"0 0 24 24\"\n",
              "       width=\"24px\">\n",
              "    <path d=\"M0 0h24v24H0V0z\" fill=\"none\"/>\n",
              "    <path d=\"M18.56 5.44l.94 2.06.94-2.06 2.06-.94-2.06-.94-.94-2.06-.94 2.06-2.06.94zm-11 1L8.5 8.5l.94-2.06 2.06-.94-2.06-.94L8.5 2.5l-.94 2.06-2.06.94zm10 10l.94 2.06.94-2.06 2.06-.94-2.06-.94-.94-2.06-.94 2.06-2.06.94z\"/><path d=\"M17.41 7.96l-1.37-1.37c-.4-.4-.92-.59-1.43-.59-.52 0-1.04.2-1.43.59L10.3 9.45l-7.72 7.72c-.78.78-.78 2.05 0 2.83L4 21.41c.39.39.9.59 1.41.59.51 0 1.02-.2 1.41-.59l7.78-7.78 2.81-2.81c.8-.78.8-2.07 0-2.86zM5.41 20L4 18.59l7.72-7.72 1.47 1.35L5.41 20z\"/>\n",
              "  </svg>\n",
              "      </button>\n",
              "      \n",
              "  <style>\n",
              "    .colab-df-container {\n",
              "      display:flex;\n",
              "      flex-wrap:wrap;\n",
              "      gap: 12px;\n",
              "    }\n",
              "\n",
              "    .colab-df-convert {\n",
              "      background-color: #E8F0FE;\n",
              "      border: none;\n",
              "      border-radius: 50%;\n",
              "      cursor: pointer;\n",
              "      display: none;\n",
              "      fill: #1967D2;\n",
              "      height: 32px;\n",
              "      padding: 0 0 0 0;\n",
              "      width: 32px;\n",
              "    }\n",
              "\n",
              "    .colab-df-convert:hover {\n",
              "      background-color: #E2EBFA;\n",
              "      box-shadow: 0px 1px 2px rgba(60, 64, 67, 0.3), 0px 1px 3px 1px rgba(60, 64, 67, 0.15);\n",
              "      fill: #174EA6;\n",
              "    }\n",
              "\n",
              "    [theme=dark] .colab-df-convert {\n",
              "      background-color: #3B4455;\n",
              "      fill: #D2E3FC;\n",
              "    }\n",
              "\n",
              "    [theme=dark] .colab-df-convert:hover {\n",
              "      background-color: #434B5C;\n",
              "      box-shadow: 0px 1px 3px 1px rgba(0, 0, 0, 0.15);\n",
              "      filter: drop-shadow(0px 1px 2px rgba(0, 0, 0, 0.3));\n",
              "      fill: #FFFFFF;\n",
              "    }\n",
              "  </style>\n",
              "\n",
              "      <script>\n",
              "        const buttonEl =\n",
              "          document.querySelector('#df-7a65cca3-3103-4f00-8970-aeb2ead5c298 button.colab-df-convert');\n",
              "        buttonEl.style.display =\n",
              "          google.colab.kernel.accessAllowed ? 'block' : 'none';\n",
              "\n",
              "        async function convertToInteractive(key) {\n",
              "          const element = document.querySelector('#df-7a65cca3-3103-4f00-8970-aeb2ead5c298');\n",
              "          const dataTable =\n",
              "            await google.colab.kernel.invokeFunction('convertToInteractive',\n",
              "                                                     [key], {});\n",
              "          if (!dataTable) return;\n",
              "\n",
              "          const docLinkHtml = 'Like what you see? Visit the ' +\n",
              "            '<a target=\"_blank\" href=https://colab.research.google.com/notebooks/data_table.ipynb>data table notebook</a>'\n",
              "            + ' to learn more about interactive tables.';\n",
              "          element.innerHTML = '';\n",
              "          dataTable['output_type'] = 'display_data';\n",
              "          await google.colab.output.renderOutput(dataTable, element);\n",
              "          const docLink = document.createElement('div');\n",
              "          docLink.innerHTML = docLinkHtml;\n",
              "          element.appendChild(docLink);\n",
              "        }\n",
              "      </script>\n",
              "    </div>\n",
              "  </div>\n",
              "  "
            ]
          },
          "metadata": {},
          "execution_count": 79
        }
      ]
    },
    {
      "cell_type": "markdown",
      "source": [
        "## Splitting Data into Training and Testing Datasets"
      ],
      "metadata": {
        "id": "SMAQeNdi3Gw8"
      }
    },
    {
      "cell_type": "code",
      "source": [
        "X = dataset.iloc[:,0:9]\n",
        "Y = dataset.iloc[:,8]\n",
        "X_train, X_test, Y_train, Y_test = train_test_split(X, Y, random_state = 0,test_size=0.2)"
      ],
      "metadata": {
        "id": "XH_AEgjzcnv-"
      },
      "execution_count": null,
      "outputs": []
    },
    {
      "cell_type": "code",
      "source": [
        "n_neighbors = 5\n",
        "knn = KNeighborsClassifier(n_neighbors=n_neighbors, p=2, metric ='euclidean')\n",
        "knn.fit(X_train, Y_train)\n",
        "# Predict on dataset which model has not seen before\n",
        "pred_X = knn.predict(X_test)\n",
        "print(f'Accuracy with k={n_neighbors}', accuracy_score(Y_test, pred_X)*100)"
      ],
      "metadata": {
        "id": "iuwPYT5NwAys",
        "colab": {
          "base_uri": "https://localhost:8080/"
        },
        "outputId": "f039f062-fdaf-461e-d713-7e7e84920409"
      },
      "execution_count": null,
      "outputs": [
        {
          "output_type": "stream",
          "name": "stdout",
          "text": [
            "Accuracy with k=5 62.5\n"
          ]
        }
      ]
    },
    {
      "cell_type": "code",
      "source": [
        "print('prediction, actual')\n",
        "list(zip(pred_X, Y_test))"
      ],
      "metadata": {
        "colab": {
          "base_uri": "https://localhost:8080/"
        },
        "id": "SMCYa37LT6lK",
        "outputId": "df579e7b-1e44-4f22-8d11-248035e6853d"
      },
      "execution_count": null,
      "outputs": [
        {
          "output_type": "stream",
          "name": "stdout",
          "text": [
            "prediction, actual\n"
          ]
        },
        {
          "output_type": "execute_result",
          "data": {
            "text/plain": [
              "[(11, 10),\n",
              " (3, 3),\n",
              " (0, 0),\n",
              " (0, 0),\n",
              " (0, 0),\n",
              " (0, 0),\n",
              " (0, 0),\n",
              " (0, 0),\n",
              " (0, 0),\n",
              " (9, 9),\n",
              " (4, 3),\n",
              " (0, 0),\n",
              " (22, 18),\n",
              " (0, 2),\n",
              " (11, 10),\n",
              " (1, 1),\n",
              " (0, 0),\n",
              " (10, 10),\n",
              " (13, 13),\n",
              " (0, 0),\n",
              " (7, 6),\n",
              " (4, 4),\n",
              " (8, 10),\n",
              " (9, 8),\n",
              " (0, 0),\n",
              " (12, 10),\n",
              " (0, 2),\n",
              " (0, 1),\n",
              " (0, 0),\n",
              " (0, 0),\n",
              " (0, 0),\n",
              " (0, 0),\n",
              " (0, 0),\n",
              " (14, 13),\n",
              " (14, 14),\n",
              " (5, 4),\n",
              " (0, 0),\n",
              " (0, 0),\n",
              " (6, 8),\n",
              " (22, 24),\n",
              " (14, 14),\n",
              " (0, 1),\n",
              " (0, 0),\n",
              " (0, 0),\n",
              " (9, 7),\n",
              " (22, 22),\n",
              " (13, 12),\n",
              " (6, 6),\n",
              " (0, 1),\n",
              " (0, 0),\n",
              " (0, 0),\n",
              " (0, 0),\n",
              " (0, 0),\n",
              " (0, 1),\n",
              " (0, 0),\n",
              " (7, 6)]"
            ]
          },
          "metadata": {},
          "execution_count": 82
        }
      ]
    }
  ]
}